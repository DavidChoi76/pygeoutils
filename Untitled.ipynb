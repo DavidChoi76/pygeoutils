{
 "cells": [
  {
   "cell_type": "code",
   "execution_count": 1,
   "metadata": {},
   "outputs": [],
   "source": [
    "import pytest\n",
    "from shapely.geometry import Polygon\n",
    "import shutil\n",
    "\n",
    "import pygeoogc as ogc\n",
    "from pygeoogc import WFS, ArcGISRESTful, ServiceURL, RetrySession, MatchCRS, ServiceURL\n",
    "import pygeoutils as utils\n",
    "from hydrodata import WaterData\n",
    "from owslib.wfs import WebFeatureService"
   ]
  },
  {
   "cell_type": "code",
   "execution_count": 2,
   "metadata": {},
   "outputs": [],
   "source": [
    "geometry_nat = Polygon(\n",
    "        [[-69.77, 45.07], [-69.31, 45.07], [-69.31, 45.45], [-69.77, 45.45], [-69.77, 45.07]]\n",
    "    )\n",
    "geometry_urb =  Polygon(\n",
    "        [\n",
    "            [-118.72, 34.118],\n",
    "            [-118.31, 34.118],\n",
    "            [-118.31, 34.518],\n",
    "            [-118.72, 34.518],\n",
    "            [-118.72, 34.118],\n",
    "        ]\n",
    "    )"
   ]
  },
  {
   "cell_type": "code",
   "execution_count": 6,
   "metadata": {},
   "outputs": [],
   "source": [
    "url_wms = \"https://www.fws.gov/wetlands/arcgis/services/Wetlands_Raster/ImageServer/WMSServer\"\n",
    "layer = \"0\"\n",
    "r_dict = ogc.wms_bybox(\n",
    "    url_wms,\n",
    "    layer,\n",
    "    geometry_urb.bounds,\n",
    "    1e3,\n",
    "    \"image/tiff\",\n",
    "    box_crs=\"epsg:4326\",\n",
    "    crs=\"epsg:3857\",\n",
    ")\n",
    "wetlands = utils.gtiff2xarray(r_dict, geometry_urb.bounds, \"epsg:4326\", \"tmp\")\n",
    "wetlands = utils.gtiff2xarray(r_dict, geometry_urb, \"epsg:4326\")\n",
    "shutil.rmtree(\"tmp\", ignore_errors=True)"
   ]
  }
 ],
 "metadata": {
  "kernelspec": {
   "display_name": "Python 3",
   "language": "python",
   "name": "python3"
  },
  "language_info": {
   "codemirror_mode": {
    "name": "ipython",
    "version": 3
   },
   "file_extension": ".py",
   "mimetype": "text/x-python",
   "name": "python",
   "nbconvert_exporter": "python",
   "pygments_lexer": "ipython3",
   "version": "3.8.4"
  }
 },
 "nbformat": 4,
 "nbformat_minor": 4
}
